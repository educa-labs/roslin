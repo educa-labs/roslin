{
 "cells": [
  {
   "cell_type": "code",
   "execution_count": 1,
   "metadata": {},
   "outputs": [],
   "source": [
    "import numpy as np\n",
    "import pandas as pd"
   ]
  },
  {
   "cell_type": "markdown",
   "metadata": {},
   "source": [
    "# JSONTransformer"
   ]
  },
  {
   "cell_type": "code",
   "execution_count": 2,
   "metadata": {},
   "outputs": [],
   "source": [
    "from unidecode import unidecode\n",
    "\n",
    "\n",
    "class JSONTransformer:\n",
    "    @staticmethod\n",
    "    def clear(string):\n",
    "        string = unidecode(string.lower().strip().replace(' ', '_'))\n",
    "\n",
    "        return float(string) if string.replace('.', '', 1).isdigit() else string\n",
    "\n",
    "    @staticmethod\n",
    "    def preprocess_json(json):\n",
    "        new_json = []\n",
    "\n",
    "        for instance in filter(lambda i: i['tags'] is not None, json):\n",
    "            new_instance = {}\n",
    "            \n",
    "            for (key, value) in map(lambda t: t.split(':'), instance['tags']):\n",
    "                key = JSONTransformer.clear(key)\n",
    "\n",
    "                if key not in new_instance:\n",
    "                    new_instance[key] = JSONTransformer.clear(value)\n",
    "\n",
    "            new_json.append(new_instance)\n",
    "\n",
    "        return new_json\n",
    "\n",
    "    @staticmethod\n",
    "    def json_to_df(json):\n",
    "        df_dict = {\n",
    "            key: [None] * len(json)\n",
    "            for instance in json\n",
    "            for key in instance\n",
    "        }\n",
    "\n",
    "        for index, instance in enumerate(json):\n",
    "            for key, value in instance.items():\n",
    "                df_dict[key][index] = value\n",
    "\n",
    "        return pd.DataFrame.from_dict(df_dict)\n",
    "\n",
    "    def fit(self, X=None, y=None):\n",
    "        return self\n",
    "    \n",
    "    def transform(self, X=None):\n",
    "        preprocessed_json = JSONTransformer.preprocess_json(X)\n",
    "        \n",
    "        return JSONTransformer.json_to_df(preprocessed_json)"
   ]
  },
  {
   "cell_type": "markdown",
   "metadata": {},
   "source": [
    "## Functions to transform a data frame\n",
    "\n",
    "Probably this functions must be part of a pipeline transformer, but I haven't figured how to."
   ]
  },
  {
   "cell_type": "code",
   "execution_count": 3,
   "metadata": {},
   "outputs": [],
   "source": [
    "def object_cols_to_category(data_frame):\n",
    "    # Set <object> dtype columns to <category>\n",
    "\n",
    "    cat_cols = data_frame.select_dtypes(include=['object']).columns.values\n",
    "    \n",
    "    for col in cat_cols:\n",
    "        data_frame[col] = data_frame[col].astype('category')\n",
    "\n",
    "    return data_frame\n",
    "\n",
    "\n",
    "def category_cols_to_codes(data_frame, cat_cols, cat_cols_codes=None):\n",
    "    # Set <category> dtype columns values to <int8>\n",
    "\n",
    "    if cat_cols_codes is None:\n",
    "        cat_cols_codes = {}\n",
    "    \n",
    "        for col in cat_cols:\n",
    "            cat_code_mapping = {\n",
    "                cat: code\n",
    "                for cat, code in zip(data_frame[col], data_frame[col].cat.codes)\n",
    "            }\n",
    "\n",
    "            cat_cols_codes[col] = cat_code_mapping\n",
    "    \n",
    "    for col in cat_cols:\n",
    "        new_col = []\n",
    "        \n",
    "        for value in data_frame[col]:\n",
    "            new_col.append(cat_cols_codes[col][value] if value else 0)\n",
    "        \n",
    "        data_frame[col] = new_col\n",
    "\n",
    "    return data_frame, cat_cols_codes"
   ]
  },
  {
   "cell_type": "markdown",
   "metadata": {},
   "source": [
    "# Gower distance"
   ]
  },
  {
   "cell_type": "code",
   "execution_count": 4,
   "metadata": {},
   "outputs": [],
   "source": [
    "class GowerDistance:\n",
    "    def __init__(self, cols_hash, cat_cols, con_cols, W_i, R_i):\n",
    "        self.cols_hash = cols_hash\n",
    "        self.cat_cols  = cat_cols\n",
    "        self.con_cols  = con_cols\n",
    "        self.W_i       = W_i\n",
    "        self.R_i       = R_i\n",
    "        self.W_i_sum   = np.sum(W_i)  # Micro-optimization\n",
    "    \n",
    "    @staticmethod\n",
    "    def cat_dist(c_j, c_k):\n",
    "        # Categorical distance function\n",
    "\n",
    "        return int(not c_j == c_k)\n",
    "\n",
    "    @staticmethod\n",
    "    def con_dist(x_j, x_k, r_i):\n",
    "        # Continuous distance function\n",
    "\n",
    "        return 1 - np.divide(np.absolute(x_j - x_k), r_i)\n",
    "    \n",
    "    def __call__(self, X_j, X_k):\n",
    "        distance = 0\n",
    "\n",
    "        for col in self.cat_cols:\n",
    "            distance += np.dot(self.W_i[self.cols_hash[col]], GowerDistance.cat_dist(X_j[self.cols_hash[col]], X_k[self.cols_hash[col]]))\n",
    "\n",
    "        for col in self.con_cols:\n",
    "            distance += np.dot(self.W_i[self.cols_hash[col]], GowerDistance.con_dist(X_j[self.cols_hash[col]], X_k[self.cols_hash[col]], self.R_i[self.cols_hash[col]]))\n",
    "\n",
    "        return distance / self.W_i_sum"
   ]
  },
  {
   "cell_type": "markdown",
   "metadata": {},
   "source": [
    "# BallTree"
   ]
  },
  {
   "cell_type": "code",
   "execution_count": 49,
   "metadata": {},
   "outputs": [],
   "source": [
    "from sklearn.neighbors import BallTree, DistanceMetric\n",
    "\n",
    "\n",
    "class BallTreePredictor:\n",
    "    def __init__(self, k=5):\n",
    "        self.k = k\n",
    "        \n",
    "        self.cat_cols       = None\n",
    "        self.cat_cols_codes = None\n",
    "        self.con_cols       = None\n",
    "        \n",
    "        self.df   = None\n",
    "        self.tree = None\n",
    "\n",
    "    def fit(self, X, y=None):\n",
    "        df = object_cols_to_category(X)\n",
    "\n",
    "        self.cat_cols = df.select_dtypes(include=['category']).columns.values\n",
    "        self.con_cols = df.select_dtypes(include=['float64']).columns.values\n",
    "\n",
    "        self.df, self.cat_cols_codes = category_cols_to_codes(df, self.cat_cols)\n",
    "\n",
    "        cols_hash = { col: i for i, col in enumerate(df.columns.values) }\n",
    "\n",
    "        W_i = [.66 if col in self.cat_cols else 1 for col in cols_hash]\n",
    "        R_i = [np.max(df[col]) - np.min(df[col]) if col in self.con_cols else 1 for col in cols_hash]\n",
    "\n",
    "        gower_distance = GowerDistance(cols_hash, self.cat_cols, self.con_cols, W_i, R_i)\n",
    "        metric         = DistanceMetric.get_metric('pyfunc', func=gower_distance)\n",
    "        self.tree      = BallTree(df, metric=metric)\n",
    "        \n",
    "        return self\n",
    "    \n",
    "    def predict(self, X):\n",
    "        X    = object_cols_to_category(X)\n",
    "        X, _ = category_cols_to_codes(X, self.cat_cols, cat_cols_codes=self.cat_cols_codes)\n",
    "\n",
    "        prediction = self.tree.query(X, self.k, return_distance=False)\n",
    "        \n",
    "        return list(map(lambda p: self.df.iloc[p], prediction))"
   ]
  },
  {
   "cell_type": "markdown",
   "metadata": {},
   "source": [
    "# Creating pipeline"
   ]
  },
  {
   "cell_type": "code",
   "execution_count": 50,
   "metadata": {},
   "outputs": [
    {
     "data": {
      "text/plain": [
       "Pipeline(memory=None,\n",
       "     steps=[('json', <__main__.JSONTransformer object at 0x7f2eb1c87e80>), ('tree', <__main__.BallTreePredictor object at 0x7f2eb1c87cf8>)])"
      ]
     },
     "execution_count": 50,
     "metadata": {},
     "output_type": "execute_result"
    }
   ],
   "source": [
    "import json as js\n",
    "from sklearn.pipeline import Pipeline\n",
    "\n",
    "\n",
    "raw_json = js.load(open('./../data.json', encoding='utf-8'))\n",
    "\n",
    "pipeline = Pipeline([('json', JSONTransformer()),('tree', BallTreePredictor())])\n",
    "pipeline.fit(raw_json)"
   ]
  },
  {
   "cell_type": "markdown",
   "metadata": {},
   "source": [
    "# Testing pipeline"
   ]
  },
  {
   "cell_type": "code",
   "execution_count": 51,
   "metadata": {},
   "outputs": [],
   "source": [
    "test = {\n",
    "    \"id\": 10,\n",
    "    \"project_id\": 5838,\n",
    "    \"photo_id\": 11807,\n",
    "    \"tags\": [\n",
    "      \"Tonalidad:Unicolor\",\n",
    "      \"Tonalidad:Claros\",\n",
    "      \"Tonalidad:Cálidos\",\n",
    "      \"Tonalidad:Cenizas\",\n",
    "      \"Tonalidad:Maderas\",\n",
    "      \"Luminosidad:Iluminada\",\n",
    "      \"Luminosidad:Claro\",\n",
    "      \"Líneas:Simple\",\n",
    "      \"Contraste:Bajo\",\n",
    "      \"Espacialidad:Aireada (despejada)\",\n",
    "      \"Estilo:Vanguardista\",\n",
    "      \"Estilo:New rich\",\n",
    "      \"Estilo:Minimalista\",\n",
    "      \"Estilo:Metálicos\",\n",
    "      \"Estilo:Pulcro\",\n",
    "      \"Materialidad:Melamina\",\n",
    "      \"Percepción de tamaño:XL\",\n",
    "      \"Percepción de tamaño:M\",\n",
    "      \"Configuración:En L\",\n",
    "      \"Textura:Tablero textura\",\n",
    "      \"Textura:Cubierta color liso\",\n",
    "      \"Cubierta:Cuarzo\",\n",
    "      \"Color cubierta:Grises\",\n",
    "      \"Espesor cubierta:Gruesa\",\n",
    "      \"Visualización:Pesada\",\n",
    "      \"Volumetrías:Basal y aéreo\",\n",
    "      \"Módulos:Harta puerta\",\n",
    "      \"Módulos:Poco cajón\",\n",
    "      \"Accesorios:Sin tiradores\",\n",
    "      \"Accesorios:Simple (bisagras)\"\n",
    "    ],\n",
    "    \"created_at\": \"2018-08-27 16:18:43.499832\",\n",
    "    \"updated_at\": \"2018-09-01 20:19:52.274711\",\n",
    "    \"technical_tags\": {\n",
    "      \"type\": \"Cocina\",\n",
    "      \"zones\": [\n",
    "        \"Santiago Oriente\"\n",
    "      ],\n",
    "      \"equipment\": \"\",\n",
    "      \"door_count\": \"21\",\n",
    "      \"drawer_count\": \"6\",\n",
    "      \"countertop_type\": \"Cuarzo\",\n",
    "      \"dimension_basal\": \"7\",\n",
    "      \"estimated_price\": \"7000000\",\n",
    "      \"dimension_aerial\": \"5\",\n",
    "      \"countertop_design\": \"Melamina Olmo Alpino\",\n",
    "      \"dimension_countertop\": \"4\"\n",
    "    },\n",
    "    \"numerical_tags\": {\n",
    "      \"Ejecución\": 3,\n",
    "      \"Diseño y creatividad\": 4,\n",
    "      \"Exigencias técnicas\": 4,\n",
    "      \"Valor casa\": 12000,\n",
    "      \"Precio estimado\": 1\n",
    "    },\n",
    "    \"photo_url\": \"https://res.cloudinary.com/hylemqjoq/image/upload/v1515173720/vsgjz5y70rj7nfasmoqd.jpg\"\n",
    "}\n",
    "\n",
    "prediction = pipeline.predict([test])"
   ]
  },
  {
   "cell_type": "code",
   "execution_count": 52,
   "metadata": {},
   "outputs": [
    {
     "data": {
      "text/plain": [
       "[   accesorios  color_cubierta  configuracion  contraste  cubierta  \\\n",
       " 5           0               2              1          1         0   \n",
       " 1           0               1              1          0         1   \n",
       " 4           1               0              2          0         0   \n",
       " 6           1               2              0          1         1   \n",
       " 2           0               0              3          0         0   \n",
       " \n",
       "    espacialidad  espesor_cubierta  estilo  lineas  luminosidad  materialidad  \\\n",
       " 5             0                 0       4       2            0             0   \n",
       " 1             1                 0       0      -1            0             0   \n",
       " 4             1                 0       4       2            0             0   \n",
       " 6             3                 0       3       2            0             0   \n",
       " 2             2                 0       2       2            1             0   \n",
       " \n",
       "    modulos  percepcion_de_tamano  textura  tonalidad  visualizacion  \\\n",
       " 5        0                     3        1          3              1   \n",
       " 1        1                     1        1          0              1   \n",
       " 4        1                     0        1          0              0   \n",
       " 6        1                     2        0          2              1   \n",
       " 2        1                     3        1          2              1   \n",
       " \n",
       "    volumetrias  \n",
       " 5            0  \n",
       " 1            0  \n",
       " 4            0  \n",
       " 6            0  \n",
       " 2            1  ]"
      ]
     },
     "execution_count": 52,
     "metadata": {},
     "output_type": "execute_result"
    }
   ],
   "source": [
    "prediction"
   ]
  },
  {
   "cell_type": "code",
   "execution_count": null,
   "metadata": {},
   "outputs": [],
   "source": []
  }
 ],
 "metadata": {
  "kernelspec": {
   "display_name": "Python 3",
   "language": "python",
   "name": "python3"
  },
  "language_info": {
   "codemirror_mode": {
    "name": "ipython",
    "version": 3
   },
   "file_extension": ".py",
   "mimetype": "text/x-python",
   "name": "python",
   "nbconvert_exporter": "python",
   "pygments_lexer": "ipython3",
   "version": "3.5.2"
  }
 },
 "nbformat": 4,
 "nbformat_minor": 2
}
