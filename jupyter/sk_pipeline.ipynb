{
 "cells": [
  {
   "cell_type": "markdown",
   "metadata": {},
   "source": [
    "# Sk learn classes\n",
    "\n",
    "Clases para generar un pipeline de sk."
   ]
  },
  {
   "cell_type": "markdown",
   "metadata": {},
   "source": [
    "## JSON preprocessor\n"
   ]
  },
  {
   "cell_type": "code",
   "execution_count": 1,
   "metadata": {},
   "outputs": [],
   "source": [
    "# dependencies\n",
    "import json\n",
    "from functools import reduce\n",
    "from nltk import word_tokenize"
   ]
  },
  {
   "cell_type": "code",
   "execution_count": 2,
   "metadata": {},
   "outputs": [],
   "source": [
    "\n",
    "'''\n",
    "transformer object that turns the data json into arrays of tokenized words.\n",
    "'''\n",
    "\n",
    "class JsonTransform():\n",
    "    \n",
    "    '''\n",
    "    add category determines if tag category is added to the final arrays.\n",
    "    '''\n",
    "    def __init__(self,add_category=False):\n",
    "        self.add_category = add_category\n",
    "        \n",
    "    '''\n",
    "    returns arrays of word arrays from tags\n",
    "    '''    \n",
    "\n",
    "    \n",
    "    def fit(self,X=None,y=None):\n",
    "        return self\n",
    "    \n",
    "    \n",
    "    def transform(self,X):\n",
    "        return [ self.process_tag_array(instance) for instance in self.data_to_tags(data)]\n",
    "    \n",
    "    \n",
    "    '''\n",
    "    returns tag as array of words (no ':').\n",
    "    add_category determines if the tag category is added to the array.\n",
    "    '''\n",
    "    def tag_to_words(self,tag):\n",
    "        tag = tag.lower()\n",
    "        category, text = tag.split(\":\")\n",
    "        if self.add_category:\n",
    "            return word_tokenize(\"{} {}\".format(category,text).lower())\n",
    "        return word_tokenize(text.lower())\n",
    "\n",
    "    '''\n",
    "    transforms array of tags into array of words.\n",
    "    add_category determines if the tag categories are added to the text.\n",
    "    '''\n",
    "    def process_tag_array(self,tags):\n",
    "        aux_tags = list(tags)\n",
    "        aux_tags[0] = self.tag_to_words(tags[0])\n",
    "        return reduce(lambda x,y : x + self.tag_to_words(y),aux_tags)\n",
    "\n",
    "    '''\n",
    "    returns array of tag arrays from original json.\n",
    "    '''\n",
    "    def data_to_tags(self,data):\n",
    "        return [instance[\"tags\"] for instance in filter(lambda x: x[\"tags\"],data)]\n"
   ]
  },
  {
   "cell_type": "code",
   "execution_count": 4,
   "metadata": {},
   "outputs": [],
   "source": [
    "# Test\n",
    "#constants\n",
    "DATA_PATH=\"../data.json\"\n",
    "data = json.load(open(DATA_PATH))\n",
    "json_transformer = JsonTransform(False)\n",
    "documents = json_transformer.transform(data)"
   ]
  },
  {
   "cell_type": "markdown",
   "metadata": {},
   "source": [
    "## Json To Tags preprocessor"
   ]
  },
  {
   "cell_type": "markdown",
   "metadata": {},
   "source": [
    "Similar To JsonTransformer but returns arrays of tags instead of tokenized words"
   ]
  },
  {
   "cell_type": "code",
   "execution_count": 10,
   "metadata": {},
   "outputs": [],
   "source": [
    "class JsonToTagsTransform(JsonTransform):\n",
    "    \n",
    "    def process_tag_array(self,tags):\n",
    "        return [tag.lower() for tag in tags]"
   ]
  },
  {
   "cell_type": "code",
   "execution_count": 11,
   "metadata": {},
   "outputs": [
    {
     "data": {
      "text/plain": [
       "[['tonalidad:monocromático',\n",
       "  'tonalidad:unicolor',\n",
       "  'tonalidad:claros',\n",
       "  'luminosidad:iluminada',\n",
       "  'luminosidad:claro',\n",
       "  'líneas:medio',\n",
       "  'contraste:bajo',\n",
       "  'espacialidad:compacta',\n",
       "  'espacialidad:apretada',\n",
       "  'estilo:sin estilo',\n",
       "  'materialidad:melamina',\n",
       "  'percepción de tamaño:s',\n",
       "  'configuración:en l',\n",
       "  'textura:tablero liso',\n",
       "  'textura:cubierta texturas',\n",
       "  'cubierta:granito',\n",
       "  'color cubierta:colores',\n",
       "  'espesor cubierta:gruesa',\n",
       "  'visualización:pesada',\n",
       "  'volumetrías:basal y aéreo',\n",
       "  'módulos:sin puerta elevable',\n",
       "  'módulos:harta puerta',\n",
       "  'módulos:poco cajón',\n",
       "  'accesorios:tiradores simples',\n",
       "  'accesorios:simple (bisagras)'],\n",
       " ['tonalidad:bicolor franjas horizontales',\n",
       "  'tonalidad:unicolor',\n",
       "  'tonalidad:multicolor',\n",
       "  'tonalidad:clásicos',\n",
       "  'tonalidad:oscuros',\n",
       "  'tonalidad:claros',\n",
       "  'tonalidad:maderas',\n",
       "  'luminosidad:iluminada',\n",
       "  'luminosidad:oscuro',\n",
       "  'contraste:alto',\n",
       "  'espacialidad:alta',\n",
       "  'estilo:clásico',\n",
       "  'estilo:familiar',\n",
       "  'estilo:tosca',\n",
       "  'materialidad:melamina',\n",
       "  'percepción de tamaño:m',\n",
       "  'configuración:en l',\n",
       "  'textura:tablero textura',\n",
       "  'textura:cubierta texturas',\n",
       "  'cubierta:granito',\n",
       "  'color cubierta:colores',\n",
       "  'espesor cubierta:gruesa',\n",
       "  'visualización:pesada',\n",
       "  'volumetrías:basal y aéreo',\n",
       "  'módulos:sin puerta elevable',\n",
       "  'módulos:poco cajón',\n",
       "  'accesorios:sin tiradores',\n",
       "  'accesorios:simple (bisagras)'],\n",
       " ['tonalidad:monocromático',\n",
       "  'tonalidad:oscuros',\n",
       "  'tonalidad:maderas',\n",
       "  'luminosidad:oscuro',\n",
       "  'líneas:simple',\n",
       "  'contraste:alto',\n",
       "  'espacialidad:baja',\n",
       "  'espacialidad:aireada (despejada)',\n",
       "  'estilo:elegante',\n",
       "  'estilo:minimalista',\n",
       "  'estilo:limpia',\n",
       "  'estilo:industrial',\n",
       "  'estilo:high performance',\n",
       "  'materialidad:melamina',\n",
       "  'percepción de tamaño:xl',\n",
       "  'configuración:lineal doble',\n",
       "  'textura:tablero textura',\n",
       "  'textura:cubierta texturas',\n",
       "  'cubierta:cuarzo',\n",
       "  'color cubierta:blanco',\n",
       "  'espesor cubierta:gruesa',\n",
       "  'visualización:pesada',\n",
       "  'volumetrías:solo basal',\n",
       "  'módulos:sin puerta elevable',\n",
       "  'módulos:harta puerta',\n",
       "  'accesorios:sin tiradores'],\n",
       " ['tonalidad:bicolor franjas verticales',\n",
       "  'tonalidad:multicolor',\n",
       "  'tonalidad:colores',\n",
       "  'tonalidad:maderas',\n",
       "  'luminosidad:iluminada',\n",
       "  'luminosidad:oscuro',\n",
       "  'líneas:compleja',\n",
       "  'contraste:alto',\n",
       "  'espacialidad:recargada',\n",
       "  'espacialidad:compacta',\n",
       "  'espacialidad:apretada',\n",
       "  'estilo:ecléctico',\n",
       "  'materialidad:melamina',\n",
       "  'percepción de tamaño:s',\n",
       "  'configuración:lineal doble',\n",
       "  'textura:tablero textura',\n",
       "  'textura:cubierta texturas',\n",
       "  'cubierta:granito',\n",
       "  'color cubierta:colores',\n",
       "  'espesor cubierta:gruesa',\n",
       "  'visualización:pesada',\n",
       "  'volumetrías:basal y aéreo',\n",
       "  'módulos:sin puerta elevable',\n",
       "  'módulos:harta puerta',\n",
       "  'módulos:poco cajón',\n",
       "  'accesorios:tiradores simples',\n",
       "  'accesorios:simple (bisagras)'],\n",
       " ['tonalidad:bicolor franjas horizontales',\n",
       "  'tonalidad:claros',\n",
       "  'tonalidad:cálidos',\n",
       "  'tonalidad:colores',\n",
       "  'tonalidad:maderas',\n",
       "  'luminosidad:iluminada',\n",
       "  'luminosidad:claro',\n",
       "  'líneas:simple',\n",
       "  'líneas:medio',\n",
       "  'contraste:alto',\n",
       "  'espacialidad:alta',\n",
       "  'espacialidad:aireada (despejada)',\n",
       "  'espacialidad:funcional',\n",
       "  'estilo:vanguardista',\n",
       "  'estilo:limpia',\n",
       "  'estilo:familiar',\n",
       "  'estilo:jovial',\n",
       "  'materialidad:melamina',\n",
       "  'percepción de tamaño:l',\n",
       "  'configuración:en u',\n",
       "  'textura:tablero textura',\n",
       "  'textura:cubierta color liso',\n",
       "  'cubierta:cuarzo',\n",
       "  'color cubierta:blanco',\n",
       "  'espesor cubierta:gruesa',\n",
       "  'visualización:liviano',\n",
       "  'volumetrías:basal y aéreo',\n",
       "  'módulos:sin puerta elevable',\n",
       "  'módulos:harta puerta',\n",
       "  'accesorios:tiradores simples',\n",
       "  'accesorios:simple (bisagras)'],\n",
       " ['tonalidad:unicolor',\n",
       "  'tonalidad:claros',\n",
       "  'tonalidad:cálidos',\n",
       "  'tonalidad:cenizas',\n",
       "  'tonalidad:maderas',\n",
       "  'luminosidad:iluminada',\n",
       "  'luminosidad:claro',\n",
       "  'líneas:simple',\n",
       "  'contraste:bajo',\n",
       "  'espacialidad:aireada (despejada)',\n",
       "  'estilo:vanguardista',\n",
       "  'estilo:new rich',\n",
       "  'estilo:minimalista',\n",
       "  'estilo:metálicos',\n",
       "  'estilo:pulcro',\n",
       "  'materialidad:melamina',\n",
       "  'percepción de tamaño:xl',\n",
       "  'percepción de tamaño:m',\n",
       "  'configuración:en l',\n",
       "  'textura:tablero textura',\n",
       "  'textura:cubierta color liso',\n",
       "  'cubierta:cuarzo',\n",
       "  'color cubierta:grises',\n",
       "  'espesor cubierta:gruesa',\n",
       "  'visualización:pesada',\n",
       "  'volumetrías:basal y aéreo',\n",
       "  'módulos:harta puerta',\n",
       "  'módulos:poco cajón',\n",
       "  'accesorios:sin tiradores',\n",
       "  'accesorios:simple (bisagras)'],\n",
       " ['tonalidad:monocromático',\n",
       "  'tonalidad:colores',\n",
       "  'luminosidad:iluminada',\n",
       "  'luminosidad:claro',\n",
       "  'líneas:simple',\n",
       "  'contraste:bajo',\n",
       "  'espacialidad:compacta',\n",
       "  'estilo:sin estilo',\n",
       "  'estilo:juvenil',\n",
       "  'materialidad:melamina',\n",
       "  'percepción de tamaño:s',\n",
       "  'configuración:cocina lineal',\n",
       "  'textura:tablero liso',\n",
       "  'textura:cubierta texturas',\n",
       "  'cubierta:granito',\n",
       "  'color cubierta:grises',\n",
       "  'espesor cubierta:gruesa',\n",
       "  'visualización:pesada',\n",
       "  'volumetrías:basal y aéreo',\n",
       "  'módulos:sin puerta elevable',\n",
       "  'módulos:harta puerta',\n",
       "  'módulos:poco cajón',\n",
       "  'accesorios:tiradores simples',\n",
       "  'accesorios:simple (bisagras)'],\n",
       " ['tonalidad:bicolor franjas horizontales',\n",
       "  'tonalidad:multicolor',\n",
       "  'tonalidad:clásicos',\n",
       "  'tonalidad:maderas',\n",
       "  'luminosidad:oscuro',\n",
       "  'líneas:medio',\n",
       "  'contraste:alto',\n",
       "  'espacialidad:alta',\n",
       "  'espacialidad:aireada (despejada)',\n",
       "  'estilo:sin estilo',\n",
       "  'materialidad:melamina',\n",
       "  'percepción de tamaño:m',\n",
       "  'configuración:en l',\n",
       "  'textura:tablero textura',\n",
       "  'textura:cubierta color liso',\n",
       "  'cubierta:resina',\n",
       "  'color cubierta:blanco',\n",
       "  'espesor cubierta:gruesa',\n",
       "  'volumetrías:basal y aéreo',\n",
       "  'módulos:harta puerta',\n",
       "  'módulos:poco cajón',\n",
       "  'accesorios:tiradores simples',\n",
       "  'accesorios:simple (bisagras)']]"
      ]
     },
     "execution_count": 11,
     "metadata": {},
     "output_type": "execute_result"
    }
   ],
   "source": [
    "# Test\n",
    "#constants\n",
    "DATA_PATH=\"data.json\"\n",
    "data = json.load(open(DATA_PATH))\n",
    "json_transformer = JsonToTagsTransform(False)\n",
    "json_transformer.transform(data)"
   ]
  },
  {
   "cell_type": "markdown",
   "metadata": {},
   "source": [
    "## Tf-Idf Glove Transformer\n"
   ]
  },
  {
   "cell_type": "code",
   "execution_count": 5,
   "metadata": {},
   "outputs": [],
   "source": [
    "# dependencies\n",
    "\n",
    "import numpy as np\n",
    "from gensim import corpora\n",
    "from gensim.models import TfidfModel\n",
    "from gensim.models.keyedvectors import KeyedVectors"
   ]
  },
  {
   "cell_type": "code",
   "execution_count": 6,
   "metadata": {},
   "outputs": [],
   "source": [
    "'''\n",
    "Calculates embedding, mapping a tokenized document to a vector.\n",
    "To calculate the vector we use a weighted average of precomputed Glove Vectors. \n",
    "Weights of the average are given by TFIDF scores.\n",
    "'''\n",
    "\n",
    "class TfIdfGloveTransformer():\n",
    "    \n",
    "    '''\n",
    "    word_embedder is pretrained gensim.KeyedVectors model\n",
    "    \n",
    "    dim is the dimension on word_embedder\n",
    "    '''\n",
    "    def __init__(self,word_embedder,dim=300):\n",
    "        self.word_embedder = word_embedder\n",
    "        self.dim=dim\n",
    "        self.word_dict = None\n",
    "        self.bows = None\n",
    "        self.tfidf = None\n",
    "        self.token2id = None\n",
    "        \n",
    "    '''\n",
    "    Fits from corpus of tokenized documents.\n",
    "    '''\n",
    "    def fit(self,X,y=None):\n",
    "        self.word_dict = corpora.Dictionary(X,prune_at=None)\n",
    "        self.bows = [self.word_dict.doc2bow(doc) for doc in X]\n",
    "        self.tfidf = TfidfModel(self.bows,normalize=True)\n",
    "        self.token2id = self.word_dict.token2id\n",
    "        return self\n",
    "    \n",
    "    \n",
    "    '''\n",
    "    returns embedding representation of documents in X\n",
    "    '''\n",
    "    \n",
    "    def transform(self,X):\n",
    "        new_bows = [self.word_dict.doc2bow(doc) for doc in X]\n",
    "        result = np.zeros((len(X),self.dim))\n",
    "        # perhaps this can be implemented better in a vectorial way\n",
    "        for i, (doc,bow) in enumerate(zip(X,new_bows)):\n",
    "            score_hash = { tup[0]:tup[1] for tup in self.tfidf.__getitem__(bow,-1)} # threshold\n",
    "            weighted_embeddings = np.array([np.dot(model[word],score_hash[self.token2id[word]]) if word in model else np.zeros((1,self.dim)) for word in doc])\n",
    "            result[i] = np.sum(weighted_embeddings, axis=0)\n",
    "        return result\n",
    "            "
   ]
  },
  {
   "cell_type": "code",
   "execution_count": 8,
   "metadata": {},
   "outputs": [],
   "source": [
    "# Test\n",
    "# constants\n",
    "GLOVE_PATH= \"glove-sbwc.i25.vec\"\n",
    "DATA_PATH=\"../data.json\"\n",
    "vectors = 855380\n",
    "model=KeyedVectors.load_word2vec_format(GLOVE_PATH,limit=vectors)"
   ]
  },
  {
   "cell_type": "code",
   "execution_count": 9,
   "metadata": {
    "scrolled": true
   },
   "outputs": [
    {
     "name": "stdout",
     "output_type": "stream",
     "text": [
      "(216, 300)\n"
     ]
    }
   ],
   "source": [
    "data = json.load(open(DATA_PATH))\n",
    "json_transformer = JsonTransform(False)\n",
    "documents = json_transformer.transform(data)\n",
    "tfidf = TfIdfGloveTransformer(model).fit(documents)\n",
    "result = tfidf.transform(documents)\n",
    "print(result.shape)"
   ]
  },
  {
   "cell_type": "code",
   "execution_count": 19,
   "metadata": {},
   "outputs": [
    {
     "name": "stdout",
     "output_type": "stream",
     "text": [
      "(\n",
      ")\n",
      "postformado\n",
      "desaturado\n"
     ]
    }
   ],
   "source": [
    "word_hash = {}\n",
    "for word in tfidf.word_dict.token2id.keys():\n",
    "    if word in model:\n",
    "        word_hash[word] =  model[word]\n",
    "    else:\n",
    "        print(word)"
   ]
  },
  {
   "cell_type": "code",
   "execution_count": 23,
   "metadata": {},
   "outputs": [],
   "source": [
    "import pickle\n",
    "with open(\"word_hash\",\"wb\") as file:\n",
    "    pickle.dump(word_hash, file)"
   ]
  },
  {
   "cell_type": "code",
   "execution_count": 29,
   "metadata": {},
   "outputs": [
    {
     "data": {
      "text/plain": [
       "array([ 5.773290e-01,  7.781000e-03, -1.859380e-01, -1.262670e-01,\n",
       "       -1.129880e-01,  3.057520e-01,  7.133700e-02,  4.095100e-01,\n",
       "        9.069800e-02, -2.276500e-02,  1.068800e-02,  3.541600e-02,\n",
       "        3.348530e-01, -1.530170e-01, -1.678720e-01,  1.030600e-01,\n",
       "        1.791380e-01, -3.583900e-02, -1.279320e-01, -2.860120e-01,\n",
       "       -2.579240e-01, -5.553100e-02, -2.381400e-02, -2.162200e-02,\n",
       "       -3.663550e-01,  2.766150e-01,  2.496960e-01,  4.906480e-01,\n",
       "       -1.022730e-01,  8.008110e-01, -1.527730e-01, -6.266740e-01,\n",
       "        6.844200e-02, -2.942780e-01, -2.784940e-01, -4.767060e-01,\n",
       "        6.741700e-02,  1.959190e-01, -3.368140e-01, -3.359520e-01,\n",
       "        2.660420e-01,  7.222400e-01, -2.985280e-01, -4.650600e-01,\n",
       "        5.339550e-01, -1.286800e-01, -4.107000e-01,  3.115910e-01,\n",
       "       -4.419170e-01,  6.064880e-01,  2.871180e-01,  3.168780e-01,\n",
       "        2.407450e-01,  1.846570e-01,  3.651000e-03,  1.582030e-01,\n",
       "       -1.785390e-01, -4.708830e-01, -6.253270e-01, -2.215600e-01,\n",
       "       -3.978140e-01, -2.291880e-01, -1.983940e-01,  1.749580e-01,\n",
       "        2.148750e-01,  5.146000e-01, -5.375300e-02,  4.290000e-01,\n",
       "       -1.012510e-01, -5.732100e-01,  1.910340e-01,  6.578000e-02,\n",
       "        7.948100e-02, -1.615850e-01,  2.864560e-01, -5.787180e-01,\n",
       "        4.664360e-01,  2.976580e-01, -2.418860e-01, -1.037310e-01,\n",
       "       -3.695350e-01, -1.646530e-01, -6.036700e-02, -2.975570e-01,\n",
       "        2.674600e-02, -2.797300e-02,  8.006200e-02,  9.028800e-02,\n",
       "       -3.903000e-03,  1.609100e-02,  5.607900e-01,  5.352400e-01,\n",
       "        7.270000e-04,  2.730430e-01, -2.271830e-01,  6.781000e-03,\n",
       "        3.987800e-02, -1.284450e-01, -6.269000e-02, -4.183840e-01,\n",
       "        8.353000e-02, -9.225900e-02, -5.979160e-01, -2.417770e-01,\n",
       "       -1.352860e-01,  3.859310e-01, -2.068180e-01, -4.198570e-01,\n",
       "       -3.889300e-01,  1.326240e-01,  8.815100e-02, -5.024440e-01,\n",
       "        3.413410e-01,  1.299660e-01,  3.917270e-01, -1.700220e-01,\n",
       "        3.821420e-01,  5.832400e-02, -9.844000e-03,  4.300050e-01,\n",
       "        6.444660e-01, -5.275590e-01, -6.638300e-02, -2.478920e-01,\n",
       "       -8.596650e-01, -1.733820e-01,  1.522580e-01, -2.950080e-01,\n",
       "       -1.511270e-01, -9.204000e-02,  1.786380e-01, -5.780060e-01,\n",
       "       -3.782110e-01,  5.056720e-01, -3.059480e-01, -7.163250e-01,\n",
       "        1.045000e-01, -5.599860e-01, -4.315900e-02, -2.465100e-02,\n",
       "        4.009620e-01,  5.978900e-02, -1.123140e-01,  3.214500e-02,\n",
       "        1.444250e-01, -7.700300e-02,  1.272460e-01,  9.979500e-02,\n",
       "       -2.150230e-01, -4.665900e-02, -4.630000e-03, -7.479000e-03,\n",
       "        1.089150e-01,  5.573300e-02, -1.629830e-01,  9.118800e-02,\n",
       "       -1.201000e-02,  5.707020e-01, -4.836800e-02,  3.619020e-01,\n",
       "        9.831300e-02, -2.163670e-01, -4.234420e-01, -1.124470e-01,\n",
       "        1.921660e-01, -4.522800e-02, -2.530060e-01, -1.473760e-01,\n",
       "        1.291580e-01,  1.115300e-01,  5.934310e-01, -7.856130e-01,\n",
       "       -5.484600e-01, -4.765200e-02,  2.395500e-02, -2.949360e-01,\n",
       "       -2.152380e-01,  2.178480e-01,  3.746500e-02,  1.852180e-01,\n",
       "        2.237030e-01, -1.606190e-01, -1.548120e-01, -2.610240e-01,\n",
       "       -4.751000e-02,  4.426130e-01,  3.702910e-01,  9.416200e-02,\n",
       "        2.985160e-01,  2.954020e-01, -5.285290e-01, -2.250170e-01,\n",
       "        1.136100e-01,  8.975000e-02,  7.996600e-02, -4.247200e-02,\n",
       "        1.123890e-01,  6.691080e-01, -2.378080e-01, -1.882860e-01,\n",
       "       -1.536090e-01, -2.797390e-01, -4.745330e-01, -3.045450e-01,\n",
       "       -3.990720e-01, -2.681030e-01,  2.984560e-01,  2.674700e-01,\n",
       "        3.570330e-01, -2.794790e-01,  3.099510e-01,  2.318190e-01,\n",
       "       -7.472060e-01, -1.668000e-02,  2.152070e-01,  2.864570e-01,\n",
       "       -1.758810e-01, -2.599890e-01,  1.064240e-01,  5.146710e-01,\n",
       "       -3.926100e-02,  6.365810e-01, -3.429100e-02, -5.496420e-01,\n",
       "       -1.635680e-01,  7.614500e-02,  1.864740e-01, -1.659000e-02,\n",
       "        8.015500e-02, -2.031080e-01,  5.074000e-02, -5.554500e-02,\n",
       "       -9.998500e-02, -3.045160e-01, -1.406840e-01,  1.267650e-01,\n",
       "        6.552400e-02,  6.192700e-02,  5.966030e-01,  1.590230e-01,\n",
       "       -6.424530e-01, -1.351960e-01, -3.102810e-01, -3.715052e+00,\n",
       "        9.104190e-01,  2.266270e-01,  2.068000e-03,  5.964460e-01,\n",
       "        5.601280e-01,  3.044430e-01, -4.665720e-01,  2.343510e-01,\n",
       "        5.624900e-01, -2.776880e-01,  1.213900e-01,  4.553110e-01,\n",
       "        1.298000e-02,  1.461500e-02, -1.641200e-02,  5.675100e-02,\n",
       "        3.627020e-01,  1.070440e-01,  1.432190e-01,  5.141240e-01,\n",
       "        2.709860e-01, -7.608350e-01,  1.745070e-01, -5.123110e-01,\n",
       "       -1.525910e-01, -1.591500e-01, -5.443610e-01, -2.654940e-01,\n",
       "       -3.081120e-01,  8.166660e-01, -4.636120e-01,  3.108720e-01,\n",
       "        1.612080e-01,  6.065880e-01, -3.946700e-01, -1.129720e-01,\n",
       "        1.350370e-01, -2.080000e-03,  9.915300e-02, -7.337500e-02,\n",
       "        3.291000e-02,  2.967810e-01,  1.065690e-01, -3.524200e-02,\n",
       "        5.692060e-01, -3.832610e-01,  2.771800e-01,  7.351160e-01,\n",
       "       -1.754110e-01, -1.169920e-01, -1.429170e-01,  1.523280e-01,\n",
       "        2.023200e-01,  4.251210e-01, -2.395710e-01, -1.993720e-01],\n",
       "      dtype=float32)"
      ]
     },
     "execution_count": 29,
     "metadata": {},
     "output_type": "execute_result"
    }
   ],
   "source": [
    "with open(\"../word_hash\",\"rb\") as file:\n",
    "    word_hash = pickle.load(file)\n",
    "word_hash[\"puerta\"]"
   ]
  },
  {
   "cell_type": "markdown",
   "metadata": {},
   "source": [
    "## Tf-Idf LDA Transformer"
   ]
  },
  {
   "cell_type": "code",
   "execution_count": 14,
   "metadata": {},
   "outputs": [],
   "source": [
    "# dependencies\n",
    "\n",
    "import numpy as np\n",
    "from gensim import corpora\n",
    "from gensim.models import TfidfModel, LdaModel"
   ]
  },
  {
   "cell_type": "code",
   "execution_count": 32,
   "metadata": {},
   "outputs": [],
   "source": [
    "\"\"\"\n",
    "Generates doc embeddings baed on topic modelling.\n",
    "Does Tf-Idf transformation and then computes probability distibutions with LDA algorithm.\n",
    "\"\"\"\n",
    "\n",
    "class LdaTransformer():\n",
    "    \"\"\"\n",
    "    dim: amount of topics to model. aka output vector dimension.\n",
    "    \"\"\"\n",
    "    def __init__(self,dim=20):\n",
    "        self.dim=dim\n",
    "        self.word_dict = None\n",
    "        self.bows = None\n",
    "        self.tfidf = None\n",
    "        self.token2id = None\n",
    "        self.lda = None\n",
    "    \n",
    "    def fit(self,X,y=None):\n",
    "        self.word_dict = corpora.Dictionary(X,prune_at=None)\n",
    "        self.bows = [self.word_dict.doc2bow(doc) for doc in X]\n",
    "        self.tfidf = TfidfModel(self.bows,normalize=True)\n",
    "        self.token2id = self.word_dict.token2id\n",
    "        self.lda = LdaModel(self.tfidf[self.bows],num_topics=self.dim,minimum_probability=0)\n",
    "        return self\n",
    "    \n",
    "    \"\"\"\n",
    "    receives tokenized documents and returns the distribution of each.\n",
    "    \"\"\"\n",
    "    def transform(self,X):\n",
    "        new_bows = [self.word_dict.doc2bow(doc) for doc in X]\n",
    "        distributions = np.array(self.lda[self.tfidf[new_bows]])\n",
    "        return np.reshape(np.delete(distributions,np.s_[:1],2),(len(X),self.dim))"
   ]
  },
  {
   "cell_type": "code",
   "execution_count": 16,
   "metadata": {},
   "outputs": [],
   "source": [
    "#test\n",
    "DATA_PATH=\"data.json\"\n",
    "\n",
    "data = json.load(open(DATA_PATH))\n",
    "json_transformer = JsonTransform(False)\n",
    "documents = json_transformer.transform(data)\n",
    "lda = LdaTransformer().fit(documents)"
   ]
  },
  {
   "cell_type": "markdown",
   "metadata": {},
   "source": [
    "## kNeighbours"
   ]
  },
  {
   "cell_type": "markdown",
   "metadata": {},
   "source": [
    "Wrapper of sklearn balltree to put in the pipeline"
   ]
  },
  {
   "cell_type": "code",
   "execution_count": 27,
   "metadata": {},
   "outputs": [],
   "source": [
    "# dependencies\n",
    "from sklearn.neighbors import BallTree"
   ]
  },
  {
   "cell_type": "code",
   "execution_count": 28,
   "metadata": {},
   "outputs": [],
   "source": [
    "\n",
    "'''\n",
    "wrapper for sklearn BallTree that can be added to a pipeline\n",
    "'''\n",
    "\n",
    "class BallTreePredictor():\n",
    "    \n",
    "    def __init__(self,k=5):\n",
    "        self.tree = None\n",
    "        self.k=k\n",
    "        \n",
    "    def set_neighbors(self,k):\n",
    "        self.k = k\n",
    "        \n",
    "    def fit(self,X,y=None):\n",
    "        self.tree = BallTree(X)\n",
    "        return self\n",
    "        \n",
    "    def predict(self,X):\n",
    "        return self.tree.query(X,self.k)\n",
    "    "
   ]
  },
  {
   "cell_type": "code",
   "execution_count": 29,
   "metadata": {},
   "outputs": [
    {
     "ename": "NameError",
     "evalue": "name 'result' is not defined",
     "output_type": "error",
     "traceback": [
      "\u001b[0;31m---------------------------------------------------------------------------\u001b[0m",
      "\u001b[0;31mNameError\u001b[0m                                 Traceback (most recent call last)",
      "\u001b[0;32m<ipython-input-29-f2000cc8052a>\u001b[0m in \u001b[0;36m<module>\u001b[0;34m()\u001b[0m\n\u001b[1;32m      1\u001b[0m \u001b[0;31m#test\u001b[0m\u001b[0;34m\u001b[0m\u001b[0;34m\u001b[0m\u001b[0m\n\u001b[1;32m      2\u001b[0m \u001b[0;34m\u001b[0m\u001b[0m\n\u001b[0;32m----> 3\u001b[0;31m \u001b[0mtree\u001b[0m \u001b[0;34m=\u001b[0m \u001b[0mBallTreePredictor\u001b[0m\u001b[0;34m(\u001b[0m\u001b[0mk\u001b[0m\u001b[0;34m=\u001b[0m\u001b[0;36m2\u001b[0m\u001b[0;34m)\u001b[0m\u001b[0;34m.\u001b[0m\u001b[0mfit\u001b[0m\u001b[0;34m(\u001b[0m\u001b[0mresult\u001b[0m\u001b[0;34m)\u001b[0m\u001b[0;34m\u001b[0m\u001b[0m\n\u001b[0m\u001b[1;32m      4\u001b[0m \u001b[0mtree\u001b[0m\u001b[0;34m.\u001b[0m\u001b[0mpredict\u001b[0m\u001b[0;34m(\u001b[0m\u001b[0mresult\u001b[0m\u001b[0;34m[\u001b[0m\u001b[0;36m0\u001b[0m\u001b[0;34m:\u001b[0m\u001b[0;36m5\u001b[0m\u001b[0;34m]\u001b[0m\u001b[0;34m)\u001b[0m\u001b[0;34m\u001b[0m\u001b[0m\n",
      "\u001b[0;31mNameError\u001b[0m: name 'result' is not defined"
     ]
    }
   ],
   "source": [
    "#test\n",
    "\n",
    "tree = BallTreePredictor(k=2).fit(result)\n",
    "tree.predict(result[0:5])"
   ]
  },
  {
   "cell_type": "markdown",
   "metadata": {},
   "source": [
    "## Pipeline Test"
   ]
  },
  {
   "cell_type": "code",
   "execution_count": 30,
   "metadata": {},
   "outputs": [],
   "source": [
    "from sklearn.pipeline import Pipeline"
   ]
  },
  {
   "cell_type": "code",
   "execution_count": 33,
   "metadata": {},
   "outputs": [
    {
     "data": {
      "text/plain": [
       "(array([[8.11908197e-09, 2.07296441e-03, 1.41270945e-02, 8.17489231e-01,\n",
       "         9.75248843e-01],\n",
       "        [0.00000000e+00, 2.07296623e-03, 1.62000589e-02, 8.19006014e-01,\n",
       "         9.76745688e-01],\n",
       "        [6.03206639e-08, 1.01501406e+00, 1.07125076e+00, 1.13166617e+00,\n",
       "         1.13304041e+00],\n",
       "        [1.61327600e-04, 8.07379661e-01, 8.17650552e-01, 8.19167334e-01,\n",
       "         9.05632820e-01],\n",
       "        [1.25462667e-07, 1.02403689e+00, 1.07981334e+00, 1.13976369e+00,\n",
       "         1.14112914e+00],\n",
       "        [6.71852376e-04, 9.05991325e-01, 9.65776475e-01, 9.75920683e-01,\n",
       "         9.77417534e-01],\n",
       "        [0.00000000e+00, 1.41270927e-02, 1.62000589e-02, 8.07218334e-01,\n",
       "         9.65104707e-01],\n",
       "        [4.05954099e-09, 1.00560674e+00, 1.06233136e+00, 1.12323865e+00,\n",
       "         1.13304046e+00]]), array([[0, 1, 6, 3, 5],\n",
       "        [1, 0, 6, 3, 5],\n",
       "        [2, 3, 5, 6, 7],\n",
       "        [3, 6, 0, 1, 5],\n",
       "        [4, 3, 5, 6, 7],\n",
       "        [5, 3, 6, 0, 1],\n",
       "        [6, 0, 1, 3, 5],\n",
       "        [7, 3, 5, 6, 2]]))"
      ]
     },
     "execution_count": 33,
     "metadata": {},
     "output_type": "execute_result"
    }
   ],
   "source": [
    "pipe = Pipeline([(\"json\",JsonToTagsTransform()),(\"embedder\",LdaTransformer()),(\"tree\",BallTreePredictor())])\n",
    "pipe.fit(data) # fit and predict directly on json files\n",
    "pipe.predict(data[0])"
   ]
  },
  {
   "cell_type": "code",
   "execution_count": null,
   "metadata": {},
   "outputs": [],
   "source": []
  }
 ],
 "metadata": {
  "kernelspec": {
   "display_name": "Python 3",
   "language": "python",
   "name": "python3"
  },
  "language_info": {
   "codemirror_mode": {
    "name": "ipython",
    "version": 3
   },
   "file_extension": ".py",
   "mimetype": "text/x-python",
   "name": "python",
   "nbconvert_exporter": "python",
   "pygments_lexer": "ipython3",
   "version": "3.6.5"
  }
 },
 "nbformat": 4,
 "nbformat_minor": 2
}
